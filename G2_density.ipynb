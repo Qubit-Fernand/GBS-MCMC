{
  "cells": [
    {
      "cell_type": "code",
      "execution_count": 2,
      "metadata": {},
      "outputs": [],
      "source": [
        "import networkx as nx\n",
        "from tqdm import tqdm\n",
        "import numpy as np\n",
        "import random \n",
        "import matplotlib.pyplot as plt\n",
        "\n",
        "# 设置全局字体为 Times New Roman\n",
        "plt.rcParams[\"font.family\"] = \"Times New Roman\"\n",
        "plt.rcParams.update({\"font.size\": 16})\n",
        "\n",
        "# 启用 LaTeX 渲染\n",
        "plt.rcParams[\"text.usetex\"] = True\n",
        "save = False\n",
        "\n",
        "# Number of vertexes\n",
        "n = 256\n",
        "\n",
        "# @Rui graph-1 for finding 16-subgraph with max-hafnian: containing 16-complete graph and remaining edge with probability 0.2\n",
        "G1 = nx.Graph()\n",
        "np.random.seed(7)\n",
        "\n",
        "# Select 16 nodes to form a complete subgraph\n",
        "nodes_to_connect = list(range(n))\n",
        "np.random.shuffle(nodes_to_connect)\n",
        "complete_subgraph_nodes = nodes_to_connect[:16]\n",
        "G1.add_nodes_from(range(n)) \n",
        "G1.add_edges_from(nx.complete_graph(complete_subgraph_nodes).edges())\n",
        "# Randomly select the remaining edges with probability 0.2\n",
        "for i in range(n):\n",
        "    for j in range(i+1, n):\n",
        "        if (i in complete_subgraph_nodes and j in complete_subgraph_nodes) or np.random.rand() >= 0.2:\n",
        "            continue\n",
        "        G1.add_edge(i, j)\n",
        "np.save(f\"./Data/G1.npy\", nx.to_numpy_array(G1))\n",
        "\n",
        "# @Rui G2 for 80-densest subgraph: vertex i has edges to vertices 0, 1, …, n-1-i\n",
        "adj_matrix = np.zeros((n, n), dtype=int)\n",
        "for i in range(n):\n",
        "    adj_matrix[i, :n-i] = 1\n",
        "    adj_matrix[i, i] = 0\n",
        "# Make sure the matrix is symmetric since it's an undirected graph\n",
        "adj_matrix = np.triu(adj_matrix) + np.triu(adj_matrix, 1).T\n",
        "G2 = nx.from_numpy_array(adj_matrix)\n",
        "np.save(f\"./Data/G2.npy\", nx.to_numpy_array(G2))\n",
        "\n",
        "from Glauber_density import *"
      ]
    },
    {
      "cell_type": "code",
      "execution_count": null,
      "metadata": {},
      "outputs": [
        {
          "name": "stderr",
          "output_type": "stream",
          "text": [
            "100%|██████████| 10/10 [00:17<00:00,  1.74s/it]\n",
            " 10%|█         | 1/10 [35:27<5:19:09, 2127.72s/it]"
          ]
        }
      ],
      "source": [
        "# Plot the density of the 80-node subgraph with the maximum density using Random Search\n",
        "G = G2\n",
        "c = 0.4 # fugacity\n",
        "k = 80\n",
        "iteration = 1000\n",
        "mixing_time = 1000\n",
        "plt.figure(figsize=(10, 6), dpi=300)\n",
        "\n",
        "# Finding the 80-node subgraph with the maximum density using Random Search\n",
        "max_density_list = np.zeros((10, iteration+1))\n",
        "for i in tqdm(range(10)):\n",
        "    max_density_list[i], best_subgraph, best_density = random_search(G, k, iteration)\n",
        "\n",
        "np.save(f\"./Data/{n}/RS_density_list.npy\", max_density_list)\n",
        "mean_density_values = np.mean(max_density_list, axis=0)\n",
        "std_density_values = np.std(max_density_list, axis=0)\n",
        "\n",
        "plt.plot(mean_density_values, label=\"RS\", color='C0')\n",
        "plt.fill_between(range(iteration+1), mean_density_values - std_density_values, mean_density_values + std_density_values, color = 'C0', alpha=0.2)\n",
        "\n",
        "# Finding the 80-node subgraph with the maximum density using Glauber Random Search\n",
        "glauber_max_density_list = np.zeros((10, iteration+1))\n",
        "for i in tqdm(range(10)):\n",
        "    glauber_max_density_list[i], glauber_best_subgraph, glauber_best_density = glauber_random_search(G, k, c, iteration, mixing_time)\n",
        "\n",
        "np.save(f\"./Data/Glauber_RS_density_list.npy\", glauber_max_density_list)\n",
        "mean_glauber_density_values = np.mean(glauber_max_density_list, axis=0)\n",
        "std_glauber_density_values = np.std(glauber_max_density_list, axis=0)\n",
        "\n",
        "plt.plot(mean_glauber_density_values, label=\"Glauber-RS\", color='C1')\n",
        "plt.fill_between(range(iteration+1), mean_glauber_density_values - std_glauber_density_values, mean_glauber_density_values + std_glauber_density_values, color = 'C1', alpha=0.2)\n",
        "\n",
        "# Finding the 80-node subgraph with the maximum density using Jerrum Glauber Random Search\n",
        "jerrum_glauber_max_density_list = np.zeros((10, iteration+1))\n",
        "for i in tqdm(range(10)):\n",
        "    jerrum_glauber_max_density_list[i], jerrum_glauber_best_subgraph, jerrum_glauber_best_density = jerrum_glauber_random_search(G, k, c, iteration, mixing_time)\n",
        "\n",
        "np.save(f\"./Data/{n}/jerrum_glauber_RS_density_list.npy\", jerrum_glauber_max_density_list)\n",
        "mean_jerrum_glauber_density_values = np.mean(jerrum_glauber_max_density_list, axis=0)\n",
        "std_jerrum_glauber_density_values = np.std(jerrum_glauber_max_density_list, axis=0)\n",
        "\n",
        "plt.plot(mean_jerrum_glauber_density_values, label=\"Jerrum-Glauber-RS\", color='C2')\n",
        "plt.fill_between(range(iteration+1), mean_jerrum_glauber_density_values - std_jerrum_glauber_density_values, mean_jerrum_glauber_density_values + std_jerrum_glauber_density_values, color = 'C2', alpha=0.2)\n",
        "\n",
        "\n",
        "plt.xlabel(\"Iterations\")\n",
        "plt.ylabel(\"Max-density\")\n",
        "plt.title(\"Density vs. Iterations via Random Search\")\n",
        "plt.legend(loc = \"best\")\n",
        "plt.savefig(\"./Archive/Figure/density_random_search.pdf\")\n",
        "plt.show()"
      ]
    },
    {
      "cell_type": "code",
      "execution_count": null,
      "metadata": {},
      "outputs": [
        {
          "data": {
            "text/plain": [
              "80"
            ]
          },
          "execution_count": 53,
          "metadata": {},
          "output_type": "execute_result"
        }
      ],
      "source": [
        "subgraph1 = glauber_dynamics(G2, k, c, mixing_time=1000)\n",
        "len(list(subgraph1.nodes()))"
      ]
    },
    {
      "cell_type": "code",
      "execution_count": null,
      "metadata": {},
      "outputs": [
        {
          "name": "stderr",
          "output_type": "stream",
          "text": [
            " 20%|██        | 2/10 [00:08<00:32,  4.05s/it]\n"
          ]
        },
        {
          "ename": "KeyboardInterrupt",
          "evalue": "",
          "output_type": "error",
          "traceback": [
            "\u001b[0;31m---------------------------------------------------------------------------\u001b[0m",
            "\u001b[0;31mKeyboardInterrupt\u001b[0m                         Traceback (most recent call last)",
            "Cell \u001b[0;32mIn[4], line 13\u001b[0m\n\u001b[1;32m     11\u001b[0m max_density_list \u001b[38;5;241m=\u001b[39m np\u001b[38;5;241m.\u001b[39mzeros((\u001b[38;5;241m10\u001b[39m, iteration\u001b[38;5;241m+\u001b[39m\u001b[38;5;241m1\u001b[39m))\n\u001b[1;32m     12\u001b[0m \u001b[38;5;28;01mfor\u001b[39;00m i \u001b[38;5;129;01min\u001b[39;00m tqdm(\u001b[38;5;28mrange\u001b[39m(\u001b[38;5;241m10\u001b[39m)):\n\u001b[0;32m---> 13\u001b[0m     max_density_list[i], best_subgraph, best_density \u001b[38;5;241m=\u001b[39m \u001b[43msimulated_annealing\u001b[49m\u001b[43m(\u001b[49m\u001b[43mG\u001b[49m\u001b[43m,\u001b[49m\u001b[43m \u001b[49m\u001b[43mk\u001b[49m\u001b[43m,\u001b[49m\u001b[43m \u001b[49m\u001b[43miteration\u001b[49m\u001b[43m,\u001b[49m\u001b[43m \u001b[49m\u001b[43mt_initial\u001b[49m\u001b[43m)\u001b[49m\n\u001b[1;32m     15\u001b[0m np\u001b[38;5;241m.\u001b[39msave(\u001b[38;5;124mf\u001b[39m\u001b[38;5;124m\"\u001b[39m\u001b[38;5;124m./Data/\u001b[39m\u001b[38;5;132;01m{\u001b[39;00mn\u001b[38;5;132;01m}\u001b[39;00m\u001b[38;5;124m/SA_density_list.npy\u001b[39m\u001b[38;5;124m\"\u001b[39m, max_density_list)\n\u001b[1;32m     16\u001b[0m mean_density_values \u001b[38;5;241m=\u001b[39m np\u001b[38;5;241m.\u001b[39mmean(max_density_list, axis\u001b[38;5;241m=\u001b[39m\u001b[38;5;241m0\u001b[39m)\n",
            "Cell \u001b[0;32mIn[3], line 36\u001b[0m, in \u001b[0;36msimulated_annealing\u001b[0;34m(G, k, iteration, t_initial)\u001b[0m\n\u001b[1;32m     33\u001b[0m AR_subgraph \u001b[38;5;241m=\u001b[39m G\u001b[38;5;241m.\u001b[39msubgraph(AR_nodes)\n\u001b[1;32m     35\u001b[0m f_AR \u001b[38;5;241m=\u001b[39m calculate_density(AR_subgraph)\n\u001b[0;32m---> 36\u001b[0m f_AS \u001b[38;5;241m=\u001b[39m \u001b[43mcalculate_density\u001b[49m\u001b[43m(\u001b[49m\u001b[43mAS_subgraph\u001b[49m\u001b[43m)\u001b[49m\n\u001b[1;32m     38\u001b[0m \u001b[38;5;28;01mif\u001b[39;00m f_AR \u001b[38;5;241m>\u001b[39m f_AS:\n\u001b[1;32m     39\u001b[0m     \u001b[38;5;28;01mif\u001b[39;00m f_AR \u001b[38;5;241m>\u001b[39m Best:\n",
            "Cell \u001b[0;32mIn[1], line 47\u001b[0m, in \u001b[0;36mcalculate_density\u001b[0;34m(subgraph)\u001b[0m\n\u001b[1;32m     44\u001b[0m \u001b[38;5;28;01mdef\u001b[39;00m \u001b[38;5;21mcalculate_density\u001b[39m(subgraph):\n\u001b[1;32m     45\u001b[0m     \u001b[38;5;66;03m# Calculate the density of the subgraph\u001b[39;00m\n\u001b[1;32m     46\u001b[0m     num_nodes \u001b[38;5;241m=\u001b[39m subgraph\u001b[38;5;241m.\u001b[39mnumber_of_nodes()\n\u001b[0;32m---> 47\u001b[0m     num_edges \u001b[38;5;241m=\u001b[39m \u001b[43msubgraph\u001b[49m\u001b[38;5;241;43m.\u001b[39;49m\u001b[43mnumber_of_edges\u001b[49m\u001b[43m(\u001b[49m\u001b[43m)\u001b[49m\n\u001b[1;32m     48\u001b[0m     \u001b[38;5;28;01mif\u001b[39;00m num_nodes \u001b[38;5;241m<\u001b[39m \u001b[38;5;241m2\u001b[39m:\n\u001b[1;32m     49\u001b[0m         \u001b[38;5;28;01mreturn\u001b[39;00m \u001b[38;5;241m0\u001b[39m  \u001b[38;5;66;03m# Avoid division by zero\u001b[39;00m\n",
            "File \u001b[0;32m/opt/anaconda3/envs/Qubit/lib/python3.11/site-packages/networkx/classes/graph.py:1972\u001b[0m, in \u001b[0;36mGraph.number_of_edges\u001b[0;34m(self, u, v)\u001b[0m\n\u001b[1;32m   1926\u001b[0m \u001b[38;5;250m\u001b[39m\u001b[38;5;124;03m\"\"\"Returns the number of edges between two nodes.\u001b[39;00m\n\u001b[1;32m   1927\u001b[0m \n\u001b[1;32m   1928\u001b[0m \u001b[38;5;124;03mParameters\u001b[39;00m\n\u001b[0;32m   (...)\u001b[0m\n\u001b[1;32m   1969\u001b[0m \n\u001b[1;32m   1970\u001b[0m \u001b[38;5;124;03m\"\"\"\u001b[39;00m\n\u001b[1;32m   1971\u001b[0m \u001b[38;5;28;01mif\u001b[39;00m u \u001b[38;5;129;01mis\u001b[39;00m \u001b[38;5;28;01mNone\u001b[39;00m:\n\u001b[0;32m-> 1972\u001b[0m     \u001b[38;5;28;01mreturn\u001b[39;00m \u001b[38;5;28mint\u001b[39m(\u001b[38;5;28;43mself\u001b[39;49m\u001b[38;5;241;43m.\u001b[39;49m\u001b[43msize\u001b[49m\u001b[43m(\u001b[49m\u001b[43m)\u001b[49m)\n\u001b[1;32m   1973\u001b[0m \u001b[38;5;28;01mif\u001b[39;00m v \u001b[38;5;129;01min\u001b[39;00m \u001b[38;5;28mself\u001b[39m\u001b[38;5;241m.\u001b[39m_adj[u]:\n\u001b[1;32m   1974\u001b[0m     \u001b[38;5;28;01mreturn\u001b[39;00m \u001b[38;5;241m1\u001b[39m\n",
            "File \u001b[0;32m/opt/anaconda3/envs/Qubit/lib/python3.11/site-packages/networkx/classes/graph.py:1918\u001b[0m, in \u001b[0;36mGraph.size\u001b[0;34m(self, weight)\u001b[0m\n\u001b[1;32m   1882\u001b[0m \u001b[38;5;28;01mdef\u001b[39;00m \u001b[38;5;21msize\u001b[39m(\u001b[38;5;28mself\u001b[39m, weight\u001b[38;5;241m=\u001b[39m\u001b[38;5;28;01mNone\u001b[39;00m):\n\u001b[1;32m   1883\u001b[0m \u001b[38;5;250m    \u001b[39m\u001b[38;5;124;03m\"\"\"Returns the number of edges or total of all edge weights.\u001b[39;00m\n\u001b[1;32m   1884\u001b[0m \n\u001b[1;32m   1885\u001b[0m \u001b[38;5;124;03m    Parameters\u001b[39;00m\n\u001b[0;32m   (...)\u001b[0m\n\u001b[1;32m   1916\u001b[0m \u001b[38;5;124;03m    6.0\u001b[39;00m\n\u001b[1;32m   1917\u001b[0m \u001b[38;5;124;03m    \"\"\"\u001b[39;00m\n\u001b[0;32m-> 1918\u001b[0m     s \u001b[38;5;241m=\u001b[39m \u001b[38;5;28msum\u001b[39m(d \u001b[38;5;28;01mfor\u001b[39;00m v, d \u001b[38;5;129;01min\u001b[39;00m \u001b[38;5;28mself\u001b[39m\u001b[38;5;241m.\u001b[39mdegree(weight\u001b[38;5;241m=\u001b[39mweight))\n\u001b[1;32m   1919\u001b[0m     \u001b[38;5;66;03m# If `weight` is None, the sum of the degrees is guaranteed to be\u001b[39;00m\n\u001b[1;32m   1920\u001b[0m     \u001b[38;5;66;03m# even, so we can perform integer division and hence return an\u001b[39;00m\n\u001b[1;32m   1921\u001b[0m     \u001b[38;5;66;03m# integer. Otherwise, the sum of the weighted degrees is not\u001b[39;00m\n\u001b[1;32m   1922\u001b[0m     \u001b[38;5;66;03m# guaranteed to be an integer, so we perform \"real\" division.\u001b[39;00m\n\u001b[1;32m   1923\u001b[0m     \u001b[38;5;28;01mreturn\u001b[39;00m s \u001b[38;5;241m/\u001b[39m\u001b[38;5;241m/\u001b[39m \u001b[38;5;241m2\u001b[39m \u001b[38;5;28;01mif\u001b[39;00m weight \u001b[38;5;129;01mis\u001b[39;00m \u001b[38;5;28;01mNone\u001b[39;00m \u001b[38;5;28;01melse\u001b[39;00m s \u001b[38;5;241m/\u001b[39m \u001b[38;5;241m2\u001b[39m\n",
            "File \u001b[0;32m/opt/anaconda3/envs/Qubit/lib/python3.11/site-packages/networkx/classes/graph.py:1918\u001b[0m, in \u001b[0;36m<genexpr>\u001b[0;34m(.0)\u001b[0m\n\u001b[1;32m   1882\u001b[0m \u001b[38;5;28;01mdef\u001b[39;00m \u001b[38;5;21msize\u001b[39m(\u001b[38;5;28mself\u001b[39m, weight\u001b[38;5;241m=\u001b[39m\u001b[38;5;28;01mNone\u001b[39;00m):\n\u001b[1;32m   1883\u001b[0m \u001b[38;5;250m    \u001b[39m\u001b[38;5;124;03m\"\"\"Returns the number of edges or total of all edge weights.\u001b[39;00m\n\u001b[1;32m   1884\u001b[0m \n\u001b[1;32m   1885\u001b[0m \u001b[38;5;124;03m    Parameters\u001b[39;00m\n\u001b[0;32m   (...)\u001b[0m\n\u001b[1;32m   1916\u001b[0m \u001b[38;5;124;03m    6.0\u001b[39;00m\n\u001b[1;32m   1917\u001b[0m \u001b[38;5;124;03m    \"\"\"\u001b[39;00m\n\u001b[0;32m-> 1918\u001b[0m     s \u001b[38;5;241m=\u001b[39m \u001b[38;5;28msum\u001b[39m\u001b[43m(\u001b[49m\u001b[43md\u001b[49m\u001b[43m \u001b[49m\u001b[38;5;28;43;01mfor\u001b[39;49;00m\u001b[43m \u001b[49m\u001b[43mv\u001b[49m\u001b[43m,\u001b[49m\u001b[43m \u001b[49m\u001b[43md\u001b[49m\u001b[43m \u001b[49m\u001b[38;5;129;43;01min\u001b[39;49;00m\u001b[43m \u001b[49m\u001b[38;5;28;43mself\u001b[39;49m\u001b[38;5;241;43m.\u001b[39;49m\u001b[43mdegree\u001b[49m\u001b[43m(\u001b[49m\u001b[43mweight\u001b[49m\u001b[38;5;241;43m=\u001b[39;49m\u001b[43mweight\u001b[49m\u001b[43m)\u001b[49m\u001b[43m)\u001b[49m\n\u001b[1;32m   1919\u001b[0m     \u001b[38;5;66;03m# If `weight` is None, the sum of the degrees is guaranteed to be\u001b[39;00m\n\u001b[1;32m   1920\u001b[0m     \u001b[38;5;66;03m# even, so we can perform integer division and hence return an\u001b[39;00m\n\u001b[1;32m   1921\u001b[0m     \u001b[38;5;66;03m# integer. Otherwise, the sum of the weighted degrees is not\u001b[39;00m\n\u001b[1;32m   1922\u001b[0m     \u001b[38;5;66;03m# guaranteed to be an integer, so we perform \"real\" division.\u001b[39;00m\n\u001b[1;32m   1923\u001b[0m     \u001b[38;5;28;01mreturn\u001b[39;00m s \u001b[38;5;241m/\u001b[39m\u001b[38;5;241m/\u001b[39m \u001b[38;5;241m2\u001b[39m \u001b[38;5;28;01mif\u001b[39;00m weight \u001b[38;5;129;01mis\u001b[39;00m \u001b[38;5;28;01mNone\u001b[39;00m \u001b[38;5;28;01melse\u001b[39;00m s \u001b[38;5;241m/\u001b[39m \u001b[38;5;241m2\u001b[39m\n",
            "File \u001b[0;32m/opt/anaconda3/envs/Qubit/lib/python3.11/site-packages/networkx/classes/reportviews.py:534\u001b[0m, in \u001b[0;36mDegreeView.__iter__\u001b[0;34m(self)\u001b[0m\n\u001b[1;32m    532\u001b[0m     \u001b[38;5;28;01mfor\u001b[39;00m n \u001b[38;5;129;01min\u001b[39;00m \u001b[38;5;28mself\u001b[39m\u001b[38;5;241m.\u001b[39m_nodes:\n\u001b[1;32m    533\u001b[0m         nbrs \u001b[38;5;241m=\u001b[39m \u001b[38;5;28mself\u001b[39m\u001b[38;5;241m.\u001b[39m_succ[n]\n\u001b[0;32m--> 534\u001b[0m         \u001b[38;5;28;01myield\u001b[39;00m (n, \u001b[38;5;28mlen\u001b[39m(nbrs) \u001b[38;5;241m+\u001b[39m (n \u001b[38;5;129;01min\u001b[39;00m nbrs))\n\u001b[1;32m    535\u001b[0m \u001b[38;5;28;01melse\u001b[39;00m:\n\u001b[1;32m    536\u001b[0m     \u001b[38;5;28;01mfor\u001b[39;00m n \u001b[38;5;129;01min\u001b[39;00m \u001b[38;5;28mself\u001b[39m\u001b[38;5;241m.\u001b[39m_nodes:\n",
            "File \u001b[0;32m/opt/anaconda3/envs/Qubit/lib/python3.11/site-packages/networkx/classes/coreviews.py:284\u001b[0m, in \u001b[0;36mFilterAtlas.__len__\u001b[0;34m(self)\u001b[0m\n\u001b[1;32m    283\u001b[0m \u001b[38;5;28;01mdef\u001b[39;00m \u001b[38;5;21m__len__\u001b[39m(\u001b[38;5;28mself\u001b[39m):\n\u001b[0;32m--> 284\u001b[0m     \u001b[38;5;28;01mreturn\u001b[39;00m \u001b[38;5;28msum\u001b[39m(\u001b[38;5;241m1\u001b[39m \u001b[38;5;28;01mfor\u001b[39;00m n \u001b[38;5;129;01min\u001b[39;00m \u001b[38;5;28mself\u001b[39m)\n",
            "File \u001b[0;32m/opt/anaconda3/envs/Qubit/lib/python3.11/site-packages/networkx/classes/coreviews.py:284\u001b[0m, in \u001b[0;36m<genexpr>\u001b[0;34m(.0)\u001b[0m\n\u001b[1;32m    283\u001b[0m \u001b[38;5;28;01mdef\u001b[39;00m \u001b[38;5;21m__len__\u001b[39m(\u001b[38;5;28mself\u001b[39m):\n\u001b[0;32m--> 284\u001b[0m     \u001b[38;5;28;01mreturn\u001b[39;00m \u001b[38;5;28msum\u001b[39m\u001b[43m(\u001b[49m\u001b[38;5;241;43m1\u001b[39;49m\u001b[43m \u001b[49m\u001b[38;5;28;43;01mfor\u001b[39;49;00m\u001b[43m \u001b[49m\u001b[43mn\u001b[49m\u001b[43m \u001b[49m\u001b[38;5;129;43;01min\u001b[39;49;00m\u001b[43m \u001b[49m\u001b[38;5;28;43mself\u001b[39;49m\u001b[43m)\u001b[49m\n",
            "File \u001b[0;32m/opt/anaconda3/envs/Qubit/lib/python3.11/site-packages/networkx/classes/coreviews.py:293\u001b[0m, in \u001b[0;36m<genexpr>\u001b[0;34m(.0)\u001b[0m\n\u001b[1;32m    291\u001b[0m \u001b[38;5;28;01mif\u001b[39;00m node_ok_shorter:\n\u001b[1;32m    292\u001b[0m     \u001b[38;5;28;01mreturn\u001b[39;00m (n \u001b[38;5;28;01mfor\u001b[39;00m n \u001b[38;5;129;01min\u001b[39;00m \u001b[38;5;28mself\u001b[39m\u001b[38;5;241m.\u001b[39mNODE_OK\u001b[38;5;241m.\u001b[39mnodes \u001b[38;5;28;01mif\u001b[39;00m n \u001b[38;5;129;01min\u001b[39;00m \u001b[38;5;28mself\u001b[39m\u001b[38;5;241m.\u001b[39m_atlas)\n\u001b[0;32m--> 293\u001b[0m \u001b[38;5;28;01mreturn\u001b[39;00m (n \u001b[38;5;28;01mfor\u001b[39;00m n \u001b[38;5;129;01min\u001b[39;00m \u001b[38;5;28mself\u001b[39m\u001b[38;5;241m.\u001b[39m_atlas \u001b[38;5;28;01mif\u001b[39;00m \u001b[38;5;28;43mself\u001b[39;49m\u001b[38;5;241;43m.\u001b[39;49m\u001b[43mNODE_OK\u001b[49m\u001b[43m(\u001b[49m\u001b[43mn\u001b[49m\u001b[43m)\u001b[49m)\n",
            "File \u001b[0;32m/opt/anaconda3/envs/Qubit/lib/python3.11/site-packages/networkx/classes/coreviews.py:342\u001b[0m, in \u001b[0;36mFilterAdjacency.__getitem__.<locals>.new_node_ok\u001b[0;34m(nbr)\u001b[0m\n\u001b[1;32m    341\u001b[0m \u001b[38;5;28;01mdef\u001b[39;00m \u001b[38;5;21mnew_node_ok\u001b[39m(nbr):\n\u001b[0;32m--> 342\u001b[0m     \u001b[38;5;28;01mreturn\u001b[39;00m \u001b[38;5;28;43mself\u001b[39;49m\u001b[38;5;241;43m.\u001b[39;49m\u001b[43mNODE_OK\u001b[49m\u001b[43m(\u001b[49m\u001b[43mnbr\u001b[49m\u001b[43m)\u001b[49m \u001b[38;5;129;01mand\u001b[39;00m \u001b[38;5;28mself\u001b[39m\u001b[38;5;241m.\u001b[39mEDGE_OK(node, nbr)\n",
            "\u001b[0;31mKeyboardInterrupt\u001b[0m: "
          ]
        },
        {
          "data": {
            "text/plain": [
              "<Figure size 3000x1800 with 0 Axes>"
            ]
          },
          "metadata": {},
          "output_type": "display_data"
        }
      ],
      "source": [
        "# Plot the density of the 80-node subgraph with the maximum density using Simulated Annealing\n",
        "G = G2\n",
        "c = 0.4 # fugacity\n",
        "k = 80\n",
        "iteration = 1000\n",
        "mixing_time = 1000\n",
        "t_initial = 1.0\n",
        "plt.figure(figsize=(10, 6), dpi=300)\n",
        "\n",
        "# Finding the 80-node subgraph with the maximum density using Simulated Annealing\n",
        "max_density_list = np.zeros((10, iteration+1))\n",
        "for i in tqdm(range(10)):\n",
        "    max_density_list[i], best_subgraph, best_density = simulated_annealing(G, k, iteration, t_initial)\n",
        "    \n",
        "np.save(f\"./Data/{n}/SA_density_list.npy\", max_density_list)\n",
        "mean_density_values = np.mean(max_density_list, axis=0)\n",
        "std_density_values = np.std(max_density_list, axis=0)\n",
        "\n",
        "plt.plot(mean_density_values, label=\"SA\", color='C0')\n",
        "plt.fill_between(range(iteration+1), mean_density_values - std_density_values, mean_density_values + std_density_values, color='C0', alpha=0.2)\n",
        "\n",
        "# Finding the 80-node subgraph with the maximum density using Glauber Simulated Annealing\n",
        "glauber_max_density_list = np.zeros((10, iteration+1))\n",
        "for i in tqdm(range(10)):\n",
        "    glauber_max_density_list[i], glauber_best_subgraph, glauber_best_density = glauber_simulated_annealing(G, k, c, iteration, mixing_time, t_initial)\n",
        "\n",
        "np.save(f\"./Data/Glauber_SA_density_list.npy\", glauber_max_density_list)\n",
        "mean_glauber_density_values = np.mean(glauber_max_density_list, axis=0)\n",
        "std_glauber_density_values = np.std(glauber_max_density_list, axis=0)\n",
        "\n",
        "plt.plot(mean_glauber_density_values, label=\"Glauber-SA\", color='C1')\n",
        "plt.fill_between(range(iteration+1), mean_glauber_density_values - std_glauber_density_values, mean_glauber_density_values + std_glauber_density_values, color = 'C1', alpha=0.2)\n",
        "\n",
        "# Finding the 80-node subgraph with the maximum density using Jerrum Glauber Simulated Annealing\n",
        "jerrum_glauber_max_density_list = np.zeros((10, iteration+1))\n",
        "for i in tqdm(range(10)):\n",
        "    jerrum_glauber_max_density_list[i], jerrum_glauber_best_subgraph, jerrum_glauber_best_density = jerrum_glauber_simulated_annealing(G, k, c, iteration, mixing_time, t_initial)\n",
        "\n",
        "np.save(f\"./Data/{n}/jerrum_glauber_SA_density_list.npy\", jerrum_glauber_max_density_list)\n",
        "mean_jerrum_glauber_density_values = np.mean(jerrum_glauber_max_density_list, axis=0)\n",
        "std_jerrum_glauber_density_values = np.std(jerrum_glauber_max_density_list, axis=0)\n",
        "\n",
        "plt.plot(mean_jerrum_glauber_density_values, label=\"Jerrum-Glauber-SA\", color='C2')\n",
        "plt.fill_between(range(iteration+1), mean_jerrum_glauber_density_values - std_jerrum_glauber_density_values, mean_jerrum_glauber_density_values + std_jerrum_glauber_density_values, color = 'C2', alpha=0.2)\n",
        "\n",
        "\n",
        "plt.xlabel(\"Iterations\")\n",
        "plt.ylabel(\"Max-density\")\n",
        "plt.title(\"Density vs. Iterations via Simulated Annealing\")\n",
        "plt.legend(loc = 'best')\n",
        "plt.savefig(\"./Archive/Figure/density_simulated_annealing.pdf\")\n",
        "plt.show()"
      ]
    },
    {
      "cell_type": "code",
      "execution_count": 8,
      "metadata": {},
      "outputs": [
        {
          "data": {
            "text/plain": [
              "([62.78915662650602, 62.78915662650602],\n",
              " <networkx.classes.graph.Graph at 0x11ffcda90>,\n",
              " 62.78915662650602)"
            ]
          },
          "execution_count": 8,
          "metadata": {},
          "output_type": "execute_result"
        }
      ],
      "source": [
        "glauber_simulated_annealing(G, k, c, 1, mixing_time, t_initial)"
      ]
    }
  ],
  "metadata": {
    "kernelspec": {
      "display_name": "Tencent",
      "language": "python",
      "name": "python3"
    },
    "language_info": {
      "codemirror_mode": {
        "name": "ipython",
        "version": 3
      },
      "file_extension": ".py",
      "mimetype": "text/x-python",
      "name": "python",
      "nbconvert_exporter": "python",
      "pygments_lexer": "ipython3",
      "version": "3.11.13"
    }
  },
  "nbformat": 4,
  "nbformat_minor": 2
}
