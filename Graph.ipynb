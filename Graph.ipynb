{
 "cells": [
  {
   "cell_type": "code",
   "execution_count": 1,
   "id": "04bf7a2f",
   "metadata": {},
   "outputs": [],
   "source": [
    "import networkx as nx\n",
    "from thewalrus import hafnian\n",
    "from tqdm import tqdm\n",
    "import numpy as np\n",
    "import random \n",
    "import matplotlib.pyplot as plt\n",
    "\n",
    "# Number of vertexes\n",
    "n = 256"
   ]
  },
  {
   "cell_type": "code",
   "execution_count": null,
   "id": "61461dd0",
   "metadata": {},
   "outputs": [],
   "source": [
    "# @Rui graph-1 for finding 16-subgraph with max-hafnian: containing 16-complete graph and remaining edge with probability 0.2\n",
    "G1 = nx.Graph()\n",
    "np.random.seed(7)\n",
    "\n",
    "# Select 16 nodes to form a complete subgraph\n",
    "nodes_to_connect = list(range(n))\n",
    "np.random.shuffle(nodes_to_connect)\n",
    "complete_subgraph_nodes = nodes_to_connect[:16]\n",
    "G1.add_nodes_from(range(n)) \n",
    "G1.add_edges_from(nx.complete_graph(complete_subgraph_nodes).edges())\n",
    "# Randomly select the remaining edges with probability 0.2\n",
    "for i in range(n):\n",
    "    for j in range(i+1, n):\n",
    "        if (i in complete_subgraph_nodes and j in complete_subgraph_nodes) or np.random.rand() >= 0.2:\n",
    "            continue\n",
    "        G1.add_edge(i, j)\n",
    "np.save(f\"./Data/G1.npy\", nx.to_numpy_array(G1))"
   ]
  },
  {
   "cell_type": "code",
   "execution_count": null,
   "id": "6ccabcf3",
   "metadata": {},
   "outputs": [],
   "source": [
    "# @Rui G2 for 80-densest subgraph: vertex i has edges to vertices 0, 1, …, n-1-i\n",
    "adj_matrix = np.zeros((n, n), dtype=int)\n",
    "for i in range(n):\n",
    "    adj_matrix[i, :n-i] = 1\n",
    "    adj_matrix[i, i] = 0\n",
    "# Make sure the matrix is symmetric since it's an undirected graph\n",
    "adj_matrix = np.triu(adj_matrix) + np.triu(adj_matrix, 1).T\n",
    "G2 = nx.from_numpy_array(adj_matrix)\n",
    "np.save(f\"./Data/G2.npy\", nx.to_numpy_array(G2))"
   ]
  },
  {
   "cell_type": "code",
   "execution_count": null,
   "id": "10672e75",
   "metadata": {},
   "outputs": [],
   "source": [
    "p = 0.4\n",
    "# 创建 Erods-Renyi Graph\n",
    "G3 = nx.erdos_renyi_graph(n, p, seed=7)\n",
    "\n",
    "np.save(f'./Data/G3.npy', nx.to_numpy_array(G3))\n",
    "# G3 = nx.from_numpy_array(np.load(f'./Data/G3.npy'))\n",
    "\n",
    "# 为每条边赋予随机的复数权重\n",
    "# np.random.seed(7)\n",
    "# for (u, v) in G3.edges():\n",
    "#     real_part = np.random.uniform(-1, 1)   # 随机实部\n",
    "#     imag_part = np.random.uniform(-1, 1)   # 随机虚部\n",
    "#     G3[u][v]['weight'] = complex(real_part, imag_part)"
   ]
  },
  {
   "cell_type": "code",
   "execution_count": null,
   "id": "6325fcd0",
   "metadata": {},
   "outputs": [],
   "source": [
    "# @Shuo bipartite probablistic graph\n",
    "# G4 = nx.complete_bipartite_graph(n//2, n//2)\n",
    "random.seed(7)\n",
    "G4 = nx.Graph()\n",
    "# bipartitle nodes sets\n",
    "left_nodes = range(n//2)\n",
    "right_nodes = range(n//2, n)\n",
    "# mark bipartite\n",
    "G4.add_nodes_from(left_nodes, bipartite=0)\n",
    "G4.add_nodes_from(right_nodes, bipartite=1)\n",
    "# random generate edge\n",
    "for u in left_nodes:\n",
    "    for v in right_nodes:\n",
    "        if random.random() < 0.2:\n",
    "            G4.add_edge(u, v)\n",
    "np.save(\"./Data/bipartite/G4_256.npy\", nx.to_numpy_array(G4))"
   ]
  },
  {
   "cell_type": "code",
   "execution_count": null,
   "id": "7e218dc9",
   "metadata": {},
   "outputs": [],
   "source": [
    "# 创建一个空图\n",
    "G3 = nx.Graph()\n",
    "\n",
    "# 添加 n 个顶点\n",
    "G3.add_nodes_from(range(n))\n",
    "\n",
    "# 生成所有可能的顶点对\n",
    "possible_edges = [(i, j) for i in range(n) for j in range(i + 1, n)]\n",
    "\n",
    "# 随机选择 2n 个边\n",
    "random_edges = random.sample(possible_edges, 2 * n)\n",
    "\n",
    "# 添加随机选择的边\n",
    "G3.add_edges_from(random_edges)\n",
    "\n",
    "# 显示图的基本信息\n",
    "print(G3.number_of_nodes(), G3.number_of_edges())\n",
    "\n",
    "np.save(f\"./Data/sparse/G3.npy\", nx.to_numpy_array(G3))\n",
    "np.save(f\"./Jobs/G3_sparse.npy\", nx.to_numpy_array(G3))"
   ]
  },
  {
   "cell_type": "code",
   "execution_count": null,
   "id": "cac1fc0a",
   "metadata": {},
   "outputs": [],
   "source": [
    "# 创建一个空的二部图\n",
    "G4 = nx.Graph()\n",
    "\n",
    "# 添加 n 个顶点到两个组中\n",
    "A = range(n//2)  # 第一组顶点\n",
    "B = range(n//2, n)  # 第二组顶点\n",
    "\n",
    "# 添加二部图的顶点\n",
    "G4.add_nodes_from(A)\n",
    "G4.add_nodes_from(B)\n",
    "\n",
    "# 生成所有可能的边：连接 A 和 B 的所有顶点对\n",
    "possible_edges = [(a, b) for a in A for b in B]\n",
    "\n",
    "# 随机选取 512 条边\n",
    "random_edges = random.sample(possible_edges, 2 * n)\n",
    "\n",
    "# 添加选取的边\n",
    "G4.add_edges_from(random_edges)\n",
    "\n",
    "# 显示图的基本信息\n",
    "print(G4.number_of_nodes(), G4.number_of_edges())\n",
    "np.save(f\"./Data/sparse/G4.npy\", nx.to_numpy_array(G4))\n",
    "np.save(f\"./Jobs/G4_sparse.npy\", nx.to_numpy_array(G3))"
   ]
  }
 ],
 "metadata": {
  "kernelspec": {
   "display_name": "Qubit",
   "language": "python",
   "name": "python3"
  },
  "language_info": {
   "codemirror_mode": {
    "name": "ipython",
    "version": 3
   },
   "file_extension": ".py",
   "mimetype": "text/x-python",
   "name": "python",
   "nbconvert_exporter": "python",
   "pygments_lexer": "ipython3",
   "version": "3.11.12"
  }
 },
 "nbformat": 4,
 "nbformat_minor": 5
}
